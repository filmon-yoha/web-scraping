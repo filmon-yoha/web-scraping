{
 "cells": [
  {
   "cell_type": "code",
   "execution_count": 1,
   "id": "5ec61931",
   "metadata": {},
   "outputs": [],
   "source": [
    "# Importing libraries\n",
    "import h5py\n",
    "import pandas as pd"
   ]
  },
  {
   "cell_type": "markdown",
   "id": "e7e81d16",
   "metadata": {},
   "source": [
    "# Setting up the project"
   ]
  },
  {
   "cell_type": "code",
   "execution_count": 2,
   "id": "a089e5a4",
   "metadata": {},
   "outputs": [],
   "source": [
    "# Creating an HDF5 file\n",
    "with h5py.File('web-scraping','w') as f:\n",
    "    world_population_group = f.create_group('World population')\n",
    "    investment_group = f.create_group('Investment')\n",
    "    crypto_currency = f.create_group('Crypto currency')\n",
    "    f.close()"
   ]
  },
  {
   "cell_type": "code",
   "execution_count": 3,
   "id": "1241d75c",
   "metadata": {},
   "outputs": [],
   "source": [
    "# Creating a CSV file\n",
    "websites = pd.DataFrame({'title':['World population','Investment','Crypto currency'],\n",
    "                         'url':['https://www.worldometers.info/world-population/','https://www.tradingview.com/','https://coinmarketcap.com/']})\n",
    "websites.to_csv('websites.csv',index=False)"
   ]
  },
  {
   "cell_type": "code",
   "execution_count": null,
   "id": "7c9132f5",
   "metadata": {},
   "outputs": [],
   "source": []
  },
  {
   "cell_type": "code",
   "execution_count": null,
   "id": "f65fb190",
   "metadata": {},
   "outputs": [],
   "source": []
  },
  {
   "cell_type": "code",
   "execution_count": null,
   "id": "69bce840",
   "metadata": {},
   "outputs": [],
   "source": []
  }
 ],
 "metadata": {
  "kernelspec": {
   "display_name": "Python 3 (ipykernel)",
   "language": "python",
   "name": "python3"
  },
  "language_info": {
   "codemirror_mode": {
    "name": "ipython",
    "version": 3
   },
   "file_extension": ".py",
   "mimetype": "text/x-python",
   "name": "python",
   "nbconvert_exporter": "python",
   "pygments_lexer": "ipython3",
   "version": "3.9.12"
  }
 },
 "nbformat": 4,
 "nbformat_minor": 5
}
