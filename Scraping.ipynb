{
 "cells": [
  {
   "cell_type": "code",
   "execution_count": 1,
   "id": "4704484e",
   "metadata": {},
   "outputs": [],
   "source": [
    "# Importing the libraries\n",
    "import datetime\n",
    "import h5py\n",
    "from selenium import webdriver\n",
    "import time\n",
    "import pandas as pd"
   ]
  },
  {
   "cell_type": "markdown",
   "id": "fe997631",
   "metadata": {},
   "source": [
    "# Scraping"
   ]
  },
  {
   "cell_type": "code",
   "execution_count": 2,
   "id": "74059164",
   "metadata": {},
   "outputs": [],
   "source": [
    "# Setting up\n",
    "date = datetime.date.today()\n",
    "browser = webdriver.Chrome(r'C:\\Users\\FILI DANI\\Downloads\\chromedriver_win32\\chromedriver.exe')\n",
    "browser.maximize_window()\n",
    "website = pd.read_csv('websites.csv')"
   ]
  },
  {
   "cell_type": "code",
   "execution_count": 3,
   "id": "05d07ee2",
   "metadata": {},
   "outputs": [],
   "source": [
    "# Worldometers website data retrieval \n",
    "browser.get(f'{website.iloc[0,1]}')\n",
    "time.sleep(8)\n",
    "country_names_list = []\n",
    "country_population_list = []\n",
    "content = browser.find_element_by_xpath('//div[@class=\"content\"]/div[@class=\"row\"]')\n",
    "country_names = content.find_elements_by_class_name('t20-country')\n",
    "country_population = content.find_elements_by_class_name('t20-number')\n",
    "for country in country_names:\n",
    "    country_names_list.append(country.text)\n",
    "for population in country_population:\n",
    "    country_population_list.append(population.text)"
   ]
  },
  {
   "cell_type": "code",
   "execution_count": 4,
   "id": "05b9c790",
   "metadata": {},
   "outputs": [],
   "source": [
    "# Cleaning worldometers data\n",
    "country_population_list_clean = []\n",
    "for population in country_population_list:\n",
    "    country_population_list_clean.append(int(population.replace(',','')))"
   ]
  },
  {
   "cell_type": "code",
   "execution_count": 5,
   "id": "eff61d3d",
   "metadata": {},
   "outputs": [],
   "source": [
    "# Trading view website data retrieval\n",
    "browser.get(f'{website.iloc[1,1]}')\n",
    "time.sleep(80)\n",
    "company_names_list = []\n",
    "company_prices_list = []\n",
    "content = browser.find_element_by_xpath('//div[@class=\"container-aPcTuZxR\"]')\n",
    "company_names = content.find_elements_by_class_name('titleContainer-gVvYQyhR')\n",
    "company_prices = content.find_elements_by_xpath('.//span[@class=\"last-gVvYQyhR js-symbol-last\"]')\n",
    "for company_name in company_names:\n",
    "    company_names_list.append(company_name.text)\n",
    "for company_price in company_prices:\n",
    "    company_prices_list.append(company_price.text)"
   ]
  },
  {
   "cell_type": "code",
   "execution_count": 6,
   "id": "20f74c24",
   "metadata": {},
   "outputs": [],
   "source": [
    "# Cleaning trading view data\n",
    "company_prices_list_clean = []\n",
    "for company_price in company_prices_list:\n",
    "    company_prices_list_clean.append(float(company_price))"
   ]
  },
  {
   "cell_type": "code",
   "execution_count": 7,
   "id": "84aefb05",
   "metadata": {},
   "outputs": [],
   "source": [
    "# Coin market cap website data retrieval\n",
    "browser.get(f'{website.iloc[2,1]}')\n",
    "time.sleep(10)\n",
    "crypto_currency_names_list = []\n",
    "crypto_currency_marketcaps_list = []\n",
    "browser.execute_script(\"window.scrollTo(0, 1100);\")\n",
    "time.sleep(25)\n",
    "content = browser.find_element_by_tag_name('table')\n",
    "crypto_currency_names = content.find_elements_by_xpath('//div[@class=\"sc-aef7b723-0 sc-8497df48-0 iULUNk\"]/div/p')\n",
    "crypto_currency_marketcaps = content.find_elements_by_xpath('//tbody/tr/td/p[@class=\"sc-4984dd93-0 jZrMxO\"]')\n",
    "for crypto_currency_name in crypto_currency_names:\n",
    "    crypto_currency_names_list.append(crypto_currency_name.text)\n",
    "for crypto_currency_marketcap in crypto_currency_marketcaps:\n",
    "    crypto_currency_marketcaps_list.append(crypto_currency_marketcap.text)"
   ]
  },
  {
   "cell_type": "code",
   "execution_count": 8,
   "id": "a0df70ca",
   "metadata": {},
   "outputs": [],
   "source": [
    "# Cleaning coin market cap data\n",
    "crypto_currency_marketcaps_list_clean_1 = []\n",
    "crypto_currency_marketcaps_list_clean_2 = []\n",
    "for crypto_currency_marketcap in crypto_currency_marketcaps_list:\n",
    "    crypto_currency_marketcaps_list_clean_1.append(crypto_currency_marketcap.replace('$',''))\n",
    "for crypto_currency_marketcap in crypto_currency_marketcaps_list_clean_1:\n",
    "    crypto_currency_marketcaps_list_clean_2.append(float(crypto_currency_marketcap.replace(',','')))"
   ]
  },
  {
   "cell_type": "code",
   "execution_count": 9,
   "id": "6293f094",
   "metadata": {},
   "outputs": [],
   "source": [
    "# Saving the data\n",
    "with h5py.File('web-scraping','a') as f:\n",
    "    world_population_dataset = f['World population'].create_dataset(f'World population {date}',shape=(20,),dtype=[('country names','S50'),('country population',int)])\n",
    "    investment_dataset = f['Investment'].create_dataset(f'Investment {date}',shape=(6,),dtype=[('company names','S50'),('company prices',float)])\n",
    "    crypto_currency_dataset = f['Crypto currency'].create_dataset(f'Crypto currency {date}',shape=(30,),dtype=[('crypto currency names','S50'),('crypto currency marketcaps',float)])\n",
    "    world_population_dataset['country names'] = country_names_list\n",
    "    world_population_dataset['country population'] = country_population_list_clean\n",
    "    investment_dataset['company names'] = company_names_list\n",
    "    investment_dataset['company prices'] = company_prices_list_clean\n",
    "    crypto_currency_dataset['crypto currency names'] = crypto_currency_names_list\n",
    "    crypto_currency_dataset['crypto currency marketcaps'] = crypto_currency_marketcaps_list_clean_2\n",
    "    f.close()"
   ]
  },
  {
   "cell_type": "code",
   "execution_count": null,
   "id": "ef3254ba",
   "metadata": {},
   "outputs": [],
   "source": []
  },
  {
   "cell_type": "code",
   "execution_count": null,
   "id": "4b575c73",
   "metadata": {},
   "outputs": [],
   "source": []
  },
  {
   "cell_type": "code",
   "execution_count": null,
   "id": "98b479d4",
   "metadata": {},
   "outputs": [],
   "source": []
  },
  {
   "cell_type": "code",
   "execution_count": null,
   "id": "0f0f358a",
   "metadata": {},
   "outputs": [],
   "source": []
  },
  {
   "cell_type": "code",
   "execution_count": null,
   "id": "6fca25d3",
   "metadata": {},
   "outputs": [],
   "source": []
  }
 ],
 "metadata": {
  "kernelspec": {
   "display_name": "Python 3 (ipykernel)",
   "language": "python",
   "name": "python3"
  },
  "language_info": {
   "codemirror_mode": {
    "name": "ipython",
    "version": 3
   },
   "file_extension": ".py",
   "mimetype": "text/x-python",
   "name": "python",
   "nbconvert_exporter": "python",
   "pygments_lexer": "ipython3",
   "version": "3.9.12"
  }
 },
 "nbformat": 4,
 "nbformat_minor": 5
}
